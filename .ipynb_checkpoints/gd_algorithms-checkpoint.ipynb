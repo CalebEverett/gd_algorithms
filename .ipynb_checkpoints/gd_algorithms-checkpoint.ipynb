{
 "cells": [
  {
   "cell_type": "markdown",
   "metadata": {},
   "source": [
    "# Batch Gradient Descent\n",
    "\n",
    "### Resources\n",
    "\n",
    "[Wikipedia: Gradient Descent](https://en.wikipedia.org/wiki/Gradient_descent)\n",
    "\n",
    "[Wikipedia: Stochastic Gradient Descent](https://en.wikipedia.org/wiki/Stochastic_gradient_descent)\n",
    "\n",
    "### Hypothesis\n",
    "\n",
    "$h_\\theta(x) = \\theta^Tx$\n",
    "\n",
    "### Cost Function\n",
    "\n",
    "$J(\\theta) = \\frac1{2m}\\sum_{i=1}^{m}(h_\\theta(x^{(i)})-y^{(i)})^2$\n",
    "\n",
    "### Algorithm\n",
    "\n",
    "$\\theta_j := \\theta_j - \\frac\\partial{\\partial\\theta_j}J(\\theta)$\n",
    "\n",
    "or\n",
    "\n",
    "$\\theta_j := \\theta_j - \\alpha\\frac1{m}\\sum_{i=1}^{m}(h_\\theta(x^{(i)})-y^{(i)})x_j^{(i)}$\n",
    "\n",
    "### Pseudo Code\n",
    "``` python\n",
    "while True:\n",
    "    loss = f(params)\n",
    "    d_loss_wrt_params = ... # compute gradient\n",
    "    params -= learning_rate * d_loss_wrt_params\n",
    "    if <stopping condition is met>:\n",
    "        return params\n",
    "```\n",
    "### Code"
   ]
  },
  {
   "cell_type": "code",
   "execution_count": 571,
   "metadata": {
    "collapsed": false
   },
   "outputs": [
    {
     "name": "stdout",
     "output_type": "stream",
     "text": [
      "time: -8.673668 ms\n",
      "theta:  [340412.66 109447.58 -6578.14]\n",
      "prediction:  293081.511746\n"
     ]
    },
    {
     "data": {
      "image/png": "[encoded data removed]",
      "text/plain": [
       "<matplotlib.figure.Figure at 0x7f558192f7f0>"
      ]
     },
     "metadata": {},
     "output_type": "display_data"
    }
   ],
   "source": [
    "import numpy as np\n",
    "import random\n",
    "import matplotlib.pyplot as plt\n",
    "import time\n",
    "\n",
    "def gd_batch(data, alpha, delta_min):\n",
    "    m, n = data[:,0:-1].shape\n",
    "    X = np.ones((m,n+1))\n",
    "    X[:,1:] = data[:,0:-1]\n",
    "    theta = np.zeros(n + 1)\n",
    "    delta = 1\n",
    "    costs = [float(\"inf\")]\n",
    "#     for i in range(1):\n",
    "    while delta > delta_min:\n",
    "        loss = X.dot(theta) - data[:,-1]\n",
    "        gradient = X.T.dot(loss) / m\n",
    "        theta = theta - alpha * gradient\n",
    "        cost = np.sum(np.square(loss)) / (2 * m)\n",
    "        delta = costs[-1] - cost\n",
    "        costs.append(cost)\n",
    "    return theta, costs\n",
    "\n",
    "# load data, specify example for prediction\n",
    "data_raw = np.loadtxt('data/test_multi.txt', delimiter=\",\")\n",
    "\n",
    "# normalize data\n",
    "X = data_raw[:,0:-1]\n",
    "mu = np.mean(X, axis=0)\n",
    "sigma = np.std(X, axis=0)\n",
    "data_norm = np.copy(data_raw)\n",
    "data_norm[:,:-1] = (X - mu) / sigma\n",
    "\n",
    "# run algorithm\n",
    "delta_min = 10**-3\n",
    "alpha = 0.05\n",
    "\n",
    "start = time.time()\n",
    "theta, costs = gd_batch(data_norm, alpha, delta_min)\n",
    "end = time.time()\n",
    "float_formatter = lambda x: \"%.2f\" % x\n",
    "np.set_printoptions(formatter={'float_kind':float_formatter})\n",
    "print('time: {:f} ms'.format((start-end)*1000.0))\n",
    "print('theta: ', theta)\n",
    "\n",
    "# make prediction for comparison results with other algorithms\n",
    "x = np.ones(3)\n",
    "x_norm = np.ones(3)\n",
    "x[1:] = np.array([1650, 3])\n",
    "x_norm[1:] = (np.array([1650, 3]) - mu ) / sigma\n",
    "print('prediction: ', theta.T.dot(x_norm))\n",
    "\n",
    "# plot cost versus iteration\n",
    "def plot_costs(c):\n",
    "    plt.plot(c)\n",
    "    plt.ylabel('Cost')\n",
    "    plt.xlabel('Iteration')\n",
    "    plt.show()\n",
    "plot_costs(costs)"
   ]
  },
  {
   "cell_type": "markdown",
   "metadata": {},
   "source": [
    "# Normal Equation Gradient Descent\n",
    "\n",
    "### Equation\n",
    "$\\theta = (X^TX)^{-1}X^Ty$\n",
    "\n",
    "Analytical solution for $\\theta$.\n",
    "\n",
    "$O(n^3)$ vs. $O(n^2)$ for iterative solution. Ok for up to approximately $n = 10^5$ features.\n",
    "\n",
    "Does not require normalization.\n",
    "\n",
    "### Python Code\n"
   ]
  },
  {
   "cell_type": "code",
   "execution_count": 566,
   "metadata": {
    "collapsed": false
   },
   "outputs": [
    {
     "name": "stdout",
     "output_type": "stream",
     "text": [
      "theta:  [89597.91 139.21 -8738.02]\n",
      "prediction:  293081.464335\n"
     ]
    }
   ],
   "source": [
    "from numpy.linalg import inv\n",
    "\n",
    "def gd_normal_eq(data):\n",
    "    m, n = data[:,0:-1].shape\n",
    "    X = np.ones((m,n+1))\n",
    "    X[:,1:] = data[:,0:-1]\n",
    "    return inv(X.T.dot(X)).dot(X.T).dot(data[:,-1])\n",
    "\n",
    "theta = gd_normal_eq(data_raw)\n",
    "print('theta: ', theta)\n",
    "print('prediction: ', theta.T.dot(x))"
   ]
  },
  {
   "cell_type": "markdown",
   "metadata": {},
   "source": [
    "### J Code\n",
    "\n",
    "``` J\n",
    "NB. This function takes an m x n matrix of numerical values\n",
    "NB. with training examples (X) in columns 1 through n-1 and\n",
    "NB. outcomes in column n as its argument and returns\n",
    "NB. a 1 x (n+1) vector of model parameters.\n",
    "\n",
    "    gd_normal_eq =: 3 : 0\n",
    "X =: (#y) $ 1 ,. (<a:;<<_1) { y\n",
    "dot =: (+/ . *)\n",
    "theta =: (%.(|:X) dot X) dot (|:X) dot (<a:;_1) { y\n",
    ")\n",
    "```"
   ]
  },
  {
   "cell_type": "markdown",
   "metadata": {},
   "source": [
    "# Stochastic Gradient Descent"
   ]
  },
  {
   "cell_type": "code",
   "execution_count": 567,
   "metadata": {
    "collapsed": false
   },
   "outputs": [
    {
     "name": "stdout",
     "output_type": "stream",
     "text": [
      "time: -4.238844 ms\n",
      "theta:  [332481.39 92826.44 -13432.38]\n",
      "prediction:  294113.697751\n"
     ]
    },
    {
     "data": {
      "image/png": "[encoded data removed]",
      "text/plain": [
       "<matplotlib.figure.Figure at 0x7f55b1f8ff60>"
      ]
     },
     "metadata": {},
     "output_type": "display_data"
    }
   ],
   "source": [
    "def gd_stoch(data, alpha, num_iter):\n",
    "    m, N = data.shape\n",
    "    Xy = np.ones((m,N+1))\n",
    "    Xy[:,1:] = data\n",
    "    theta = np.zeros(N)\n",
    "    costs = [float(\"inf\")]\n",
    "    for i in range(num_iter):\n",
    "        #np.random.shuffle(Xy)\n",
    "        for x_i, y_i in ((row[:-1],row[-1]) for row in Xy):\n",
    "            loss_i = theta.T.dot(x_i) - y_i\n",
    "            gradient = x_i.T.dot(loss_i)\n",
    "            theta = theta - alpha * gradient\n",
    "            loss = Xy[:,:-1].dot(theta) - Xy[:,-1]\n",
    "            cost = np.sum(np.square(loss)) / (2 * m)\n",
    "            costs.append(cost)\n",
    "    return theta, costs\n",
    "\n",
    "start = time.time()\n",
    "theta, costs = gd_stoch(data_norm, alpha, 5)\n",
    "end = time.time()\n",
    "print('time: {:f} ms'.format((start-end)*1000.0))\n",
    "print('theta: ', theta)\n",
    "print('prediction: ', theta.T.dot(x_norm))\n",
    "plot_costs(costs)"
   ]
  },
  {
   "cell_type": "markdown",
   "metadata": {},
   "source": [
    "# Mini-Batch Gradient Descent"
   ]
  },
  {
   "cell_type": "code",
   "execution_count": 572,
   "metadata": {
    "collapsed": false
   },
   "outputs": [
    {
     "name": "stdout",
     "output_type": "stream",
     "text": [
      "time: -6.163836 ms\n",
      "theta:  [332481.39 92826.44 -13432.38]\n",
      "prediction:  294113.697751\n"
     ]
    },
    {
     "data": {
      "image/png": "[encoded data removed]",
      "text/plain": [
       "<matplotlib.figure.Figure at 0x7f55834fa978>"
      ]
     },
     "metadata": {},
     "output_type": "display_data"
    }
   ],
   "source": [
    "def gd_stoch(data, alpha, num_iter, b=1):\n",
    "    m, N = data.shape\n",
    "    Xy = np.ones((m,N+1))\n",
    "    Xy[:,1:] = data\n",
    "    theta = np.zeros(N)\n",
    "    costs = [float(\"inf\")]\n",
    "    for i in range(num_iter):\n",
    "        #np.random.shuffle(Xy)\n",
    "        batches = np.split(Xy, np.arange(b, m, b))\n",
    "        for B_x, B_y in ((B[:,:-1],B[:,-1]) for B in batches):\n",
    "            loss_B = B_x.dot(theta) - B_y\n",
    "            gradient = B_x.T.dot(loss_B) / B_x.shape[0]\n",
    "            theta = theta - alpha * gradient\n",
    "            loss = Xy[:,:-1].dot(theta) - Xy[:,-1]\n",
    "            cost = np.sum(np.square(loss)) / (2 * m)\n",
    "            costs.append(cost)\n",
    "    return theta, costs\n",
    "\n",
    "start = time.time()\n",
    "theta, costs = gd_stoch(data_norm, alpha, 5, 1)\n",
    "end = time.time()\n",
    "print('time: {:f} ms'.format((start-end)*1000.0))\n",
    "print('theta: ', theta)\n",
    "print('prediction: ', theta.T.dot(x_norm))\n",
    "plot_costs(costs)"
   ]
  },
  {
   "cell_type": "code",
   "execution_count": null,
   "metadata": {
    "collapsed": true
   },
   "outputs": [],
   "source": []
  }
 ],
 "metadata": {
  "anaconda-cloud": {},
  "kernelspec": {
   "display_name": "Python [conda root]",
   "language": "python",
   "name": "conda-root-py"
  },
  "language_info": {
   "codemirror_mode": {
    "name": "ipython",
    "version": 3
   },
   "file_extension": ".py",
   "mimetype": "text/x-python",
   "name": "python",
   "nbconvert_exporter": "python",
   "pygments_lexer": "ipython3",
   "version": "3.5.2"
  }
 },
 "nbformat": 4,
 "nbformat_minor": 1
}
